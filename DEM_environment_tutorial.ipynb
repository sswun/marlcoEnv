{
 "cells": [
  {
   "cell_type": "markdown",
   "metadata": {},
   "source": [
    "# DEM Environment Tutorial\n",
    "\n",
    "This tutorial demonstrates how to use the DEM (Defense, Escort, and Movement) environment for multi-agent reinforcement learning research.\n",
    "\n",
    "## Overview\n",
    "\n",
    "The DEM environment is a VIP escort mission where:\n",
    "- **VIP**: Needs to reach a target position while avoiding threats\n",
    "- **Agents**: Protect the VIP from threats and help it reach the target\n",
    "- **Threats**: Try to damage and eliminate the VIP\n",
    "\n",
    "The environment supports role emergence where agents naturally develop different strategies like:\n",
    "- **Guards**: Stay close to VIP to protect it\n",
    "- **Vanguards**: Move ahead to clear threats\n",
    "- **Support**: Provide long-range cover"
   ]
  },
  {
   "cell_type": "markdown",
   "metadata": {},
   "source": [
    "## 1. Basic Environment Setup"
   ]
  },
  {
   "cell_type": "code",
   "execution_count": 1,
   "metadata": {},
   "outputs": [
    {
     "name": "stdout",
     "output_type": "stream",
     "text": [
      "✅ DEM environment imported successfully!\n"
     ]
    }
   ],
   "source": [
    "# Import required libraries\n",
    "import sys\n",
    "import os\n",
    "import numpy as np\n",
    "import matplotlib.pyplot as plt\n",
    "from typing import Dict, Any\n",
    "\n",
    "# Add the project root to Python path\n",
    "sys.path.append('../')\n",
    "\n",
    "# Import DEM environment\n",
    "try:\n",
    "    from Env.DEM.env_dem import DEMEnv, DEMConfig, create_dem_env\n",
    "    from Env.DEM.env_dem_ctde import DEMCTDEWrapper, create_dem_ctde_env\n",
    "    print(\"✅ DEM environment imported successfully!\")\n",
    "except ImportError as e:\n",
    "    print(f\"❌ Import error: {e}\")\n",
    "    print(\"Make sure you're running this notebook from the MARL directory\")\n",
    "    print(\"Or run: `python run_dem_tests.py` to verify installation\")"
   ]
  },
  {
   "cell_type": "markdown",
   "metadata": {},
   "source": [
    "## 2. Creating the Environment"
   ]
  },
  {
   "cell_type": "code",
   "execution_count": 2,
   "metadata": {},
   "outputs": [
    {
     "name": "stdout",
     "output_type": "stream",
     "text": [
      "🚀 Creating DEM Environment...\n",
      "\n",
      "📊 Environment Information:\n",
      "  Number of agents: 3\n",
      "  Observation dimension: 52\n",
      "  Number of actions: 10\n",
      "  Grid size: 10x10\n",
      "  VIP HP: 80\n",
      "  Agent HP: 60\n",
      "  Max steps: 100\n"
     ]
    }
   ],
   "source": [
    "# Create a basic DEM environment\n",
    "print(\"🚀 Creating DEM Environment...\")\n",
    "env = create_dem_env(difficulty=\"easy\", max_steps=100, render_mode=\"\")\n",
    "\n",
    "# Get environment information\n",
    "env_info = env.get_env_info()\n",
    "print(f\"\\n📊 Environment Information:\")\n",
    "print(f\"  Number of agents: {env_info['n_agents']}\")\n",
    "print(f\"  Observation dimension: {env_info['obs_shape']}\")\n",
    "print(f\"  Number of actions: {env_info['n_actions']}\")\n",
    "print(f\"  Grid size: {env.config.grid_size}x{env.config.grid_size}\")\n",
    "print(f\"  VIP HP: {env.config.vip_hp}\")\n",
    "print(f\"  Agent HP: {env.config.agent_hp}\")\n",
    "print(f\"  Max steps: {env.config.max_steps}\")"
   ]
  },
  {
   "cell_type": "markdown",
   "metadata": {},
   "source": [
    "## 3. Environment Reset and Observations"
   ]
  },
  {
   "cell_type": "code",
   "execution_count": 3,
   "metadata": {},
   "outputs": [
    {
     "name": "stdout",
     "output_type": "stream",
     "text": [
      "🔄 Resetting environment...\n",
      "\n",
      "👁️ Observations for 3 agents:\n",
      "  Agent agent_0: shape=(59,), mean=0.3593, std=0.4699\n",
      "  Agent agent_1: shape=(59,), mean=0.3593, std=0.4695\n",
      "  Agent agent_2: shape=(59,), mean=0.3475, std=0.4770\n",
      "\n",
      "🌍 Global Information:\n",
      "  VIP position: Position(x=1, y=1)\n",
      "  VIP target: Position(x=8, y=8)\n",
      "  VIP HP: 80/80\n",
      "  Agents alive: 3\n",
      "  Threats alive: 0\n"
     ]
    }
   ],
   "source": [
    "# Reset the environment\n",
    "print(\"🔄 Resetting environment...\")\n",
    "observations = env.reset()\n",
    "\n",
    "print(f\"\\n👁️ Observations for {len(observations)} agents:\")\n",
    "for agent_id, obs in observations.items():\n",
    "    print(f\"  Agent {agent_id}: shape={obs.shape}, mean={obs.mean():.4f}, std={obs.std():.4f}\")\n",
    "\n",
    "# Get VIP information directly from game state\n",
    "vip_state = env.game_state.vip.get_state()\n",
    "print(f\"\\n🌍 Global Information:\")\n",
    "print(f\"  VIP position: {vip_state['pos']}\")\n",
    "print(f\"  VIP target: {vip_state['target_pos']}\")\n",
    "print(f\"  VIP HP: {vip_state['hp']}/{vip_state['max_hp']}\")\n",
    "print(f\"  Agents alive: {len([a for a in env.game_state.agents.values() if a.is_alive])}\")\n",
    "print(f\"  Threats alive: {len([t for t in env.game_state.threats.values() if t.is_alive])}\")"
   ]
  },
  {
   "cell_type": "markdown",
   "metadata": {},
   "source": [
    "## 4. Action Space and Agent Actions"
   ]
  },
  {
   "cell_type": "code",
   "execution_count": 4,
   "metadata": {},
   "outputs": [
    {
     "name": "stdout",
     "output_type": "stream",
     "text": [
      "🎮 Available Actions:\n",
      "  0: Move Up\n",
      "  1: Move Down\n",
      "  2: Move Left\n",
      "  3: Move Right\n",
      "  4: Attack\n",
      "  5: Observe\n",
      "  6: Guard VIP\n",
      "  7: Communicate\n",
      "  8: Long Range Attack\n",
      "  9: Stay Still\n",
      "\n",
      "✅ Available actions per agent:\n",
      "  Note: Basic DEM environment supports all 10 actions for all agents\n",
      "  Agent agent_0: All 10 actions available\n",
      "  Agent agent_1: All 10 actions available\n",
      "  Agent agent_2: All 10 actions available\n"
     ]
    }
   ],
   "source": [
    "# Define action meanings\n",
    "action_meanings = {\n",
    "    0: \"Move Up\",\n",
    "    1: \"Move Down\", \n",
    "    2: \"Move Left\",\n",
    "    3: \"Move Right\",\n",
    "    4: \"Attack\",\n",
    "    5: \"Observe\",\n",
    "    6: \"Guard VIP\",\n",
    "    7: \"Communicate\",\n",
    "    8: \"Long Range Attack\",\n",
    "    9: \"Stay Still\"\n",
    "}\n",
    "\n",
    "print(\"🎮 Available Actions:\")\n",
    "for action_id, meaning in action_meanings.items():\n",
    "    print(f\"  {action_id}: {meaning}\")\n",
    "\n",
    "# Get available actions for each agent\n",
    "print(f\"\\n✅ Available actions per agent:\")\n",
    "print(\"  Note: Basic DEM environment supports all 10 actions for all agents\")\n",
    "for agent_id in observations.keys():\n",
    "    print(f\"  Agent {agent_id}: All 10 actions available\")"
   ]
  },
  {
   "cell_type": "markdown",
   "metadata": {},
   "source": [
    "## 5. Environment Step Function"
   ]
  },
  {
   "cell_type": "code",
   "execution_count": 5,
   "metadata": {},
   "outputs": [
    {
     "name": "stdout",
     "output_type": "stream",
     "text": [
      "🚀 Taking random actions...\n",
      "\n",
      "🎯 Actions taken:\n",
      "  Agent agent_0: 4 (Attack)\n",
      "  Agent agent_1: 1 (Move Down)\n",
      "  Agent agent_2: 7 (Communicate)\n",
      "\n",
      "📈 Step Results:\n",
      "  Done: {'agent_0': False, 'agent_1': False, 'agent_2': False}\n",
      "  Total reward: -2.3600\n",
      "  Rewards per agent: {'agent_0': -0.7866666666666667, 'agent_1': -0.7866666666666667, 'agent_2': -0.7866666666666667}\n",
      "\n",
      "💚 VIP Status:\n",
      "  HP: 80/80\n",
      "  Position: Position(x=2, y=2)\n",
      "  Target: Position(x=8, y=8)\n",
      "  Distance to target: 12.00\n"
     ]
    }
   ],
   "source": [
    "# Take random actions\n",
    "print(\"🚀 Taking random actions...\")\n",
    "\n",
    "# Generate random actions for each agent\n",
    "actions = {}\n",
    "for agent_id in observations.keys():\n",
    "    # In basic DEM environment, all actions are available\n",
    "    action = np.random.randint(0, 10)\n",
    "    actions[agent_id] = action\n",
    "\n",
    "print(f\"\\n🎯 Actions taken:\")\n",
    "for agent_id, action in actions.items():\n",
    "    print(f\"  Agent {agent_id}: {action} ({action_meanings[action]})\")\n",
    "\n",
    "# Step the environment\n",
    "next_observations, rewards, done, info = env.step(actions)\n",
    "\n",
    "print(f\"\\n📈 Step Results:\")\n",
    "print(f\"  Done: {done}\")\n",
    "print(f\"  Total reward: {sum(rewards.values()):.4f}\")\n",
    "print(f\"  Rewards per agent: {dict(rewards)}\")\n",
    "\n",
    "# Get VIP information from game state\n",
    "vip_state = env.game_state.vip.get_state()\n",
    "print(f\"\\n💚 VIP Status:\")\n",
    "print(f\"  HP: {info['vip_hp']}/{info['vip_max_hp']}\")\n",
    "print(f\"  Position: {vip_state['pos']}\")\n",
    "print(f\"  Target: {vip_state['target_pos']}\")\n",
    "print(f\"  Distance to target: {info['vip_distance_to_target']:.2f}\")"
   ]
  },
  {
   "cell_type": "code",
   "execution_count": 6,
   "metadata": {},
   "outputs": [],
   "source": [
    "env.close()"
   ]
  },
  {
   "cell_type": "markdown",
   "metadata": {},
   "source": [
    "## 6. CTDE (Centralized Training, Decentralized Execution) Mode"
   ]
  },
  {
   "cell_type": "code",
   "execution_count": 7,
   "metadata": {},
   "outputs": [
    {
     "name": "stdout",
     "output_type": "stream",
     "text": [
      "🧠 Creating CTDE Environment...\n",
      "\n",
      "🔍 Testing concat global state:\n",
      "  Global state shape: (41,)\n",
      "  Agent count: 3\n",
      "\n",
      "🔍 Testing mean global state:\n",
      "  Global state shape: (59,)\n",
      "  Agent count: 3\n",
      "\n",
      "🔍 Testing max global state:\n",
      "  Global state shape: (59,)\n",
      "  Agent count: 3\n",
      "\n",
      "🔍 Testing attention global state:\n",
      "  Global state shape: (62,)\n",
      "  Agent count: 3\n"
     ]
    }
   ],
   "source": [
    "# Create CTDE environment with different global state types\n",
    "print(\"🧠 Creating CTDE Environment...\")\n",
    "\n",
    "# Test different global state representations\n",
    "state_types = [\"concat\", \"mean\", \"max\", \"attention\"]\n",
    "\n",
    "for state_type in state_types:\n",
    "    print(f\"\\n🔍 Testing {state_type} global state:\")\n",
    "    \n",
    "    ctde_env = create_dem_ctde_env(\n",
    "        difficulty=\"easy\",\n",
    "        global_state_type=state_type,\n",
    "        max_steps=50,\n",
    "        render_mode=\"\"\n",
    "    )\n",
    "    \n",
    "    obs = ctde_env.reset()\n",
    "    global_state = ctde_env.get_global_state()\n",
    "    \n",
    "    print(f\"  Global state shape: {global_state.shape}\")\n",
    "    print(f\"  Agent count: {len(obs)}\")\n",
    "    \n",
    "    ctde_env.close()"
   ]
  },
  {
   "cell_type": "markdown",
   "metadata": {},
   "source": [
    "## 7. Episode Simulation"
   ]
  },
  {
   "cell_type": "code",
   "execution_count": 14,
   "metadata": {},
   "outputs": [
    {
     "name": "stdout",
     "output_type": "stream",
     "text": [
      "🎬 Running complete episode...\n",
      "\n",
      "🏁 Episode completed!\n",
      "  Total steps: 21\n"
     ]
    }
   ],
   "source": [
    "\n",
    "import time\n",
    "# Run a complete episode with a simple policy\n",
    "print(\"🎬 Running complete episode...\")\n",
    "\n",
    "ctde_env = create_dem_ctde_env(difficulty=\"normal\", max_steps=200, render_mode=\"human\")\n",
    "obs = ctde_env.reset()\n",
    "\n",
    "episode_data = {\n",
    "    'steps': [],\n",
    "    'rewards': [],\n",
    "    'vip_hp': [],\n",
    "    'threats_killed': [],\n",
    "    'agents_adjacent_to_vip': []\n",
    "}\n",
    "\n",
    "step = 0\n",
    "while True:\n",
    "    # Simple policy: alternate between guarding and exploring\n",
    "    actions = {}\n",
    "    for i, agent_id in enumerate(obs.keys()):\n",
    "        if step < 50:\n",
    "            # First half: guard VIP\n",
    "            actions[agent_id] = 4  # Guard VIP\n",
    "        elif i == 0:\n",
    "            # One agent moves ahead\n",
    "            actions[agent_id] = 1  # Move down\n",
    "        elif i == 1:\n",
    "            # One agent attacks\n",
    "            actions[agent_id] = 4  # Attack\n",
    "        else:\n",
    "            # Others guard\n",
    "            actions[agent_id] = 1  # move down\n",
    "    \n",
    "    next_obs, rewards, done, info = ctde_env.step(actions)\n",
    "    \n",
    "    # Record episode data\n",
    "    stats = ctde_env.get_stats()\n",
    "    episode_data['steps'].append(step)\n",
    "    episode_data['rewards'].append(sum(rewards.values()))\n",
    "    episode_data['vip_hp'].append(stats['vip_hp'])\n",
    "    episode_data['threats_killed'].append(stats['threats_killed'])\n",
    "    episode_data['agents_adjacent_to_vip'].append(stats['agents_adjacent_to_vip'])\n",
    "    \n",
    "    step += 1\n",
    "    \n",
    "    if step >= 200:\n",
    "        print(f\"\\n🏁 Episode completed!\")\n",
    "        print(f\"  Total steps: {step}\")\n",
    "        print(f\"  Termination reason: {info.get('termination_reason', 'Max steps reached')}\")\n",
    "        print(f\"  VIP HP: {info['vip_hp']}/{info['vip_max_hp']}\")\n",
    "        print(f\"  Threats killed: {info['threats_killed']}\")\n",
    "        print(f\"  Total reward: {sum(episode_data['rewards']):.2f}\")\n",
    "        break\n",
    "\n",
    "    for agent_id, done_ in done.items():\n",
    "        if done_:\n",
    "            print(f\"\\n🏁 Episode completed!\")\n",
    "            print(f\"  Total steps: {step}\")\n",
    "            break\n",
    "    \n",
    "    if done_:\n",
    "        break\n",
    "    \n",
    "    obs = next_obs\n",
    "    \n",
    "    time.sleep(0.1)  # Slow down for visualization\n",
    "\n",
    "ctde_env.close()"
   ]
  },
  {
   "cell_type": "code",
   "execution_count": 13,
   "metadata": {},
   "outputs": [],
   "source": [
    "ctde_env.close()"
   ]
  },
  {
   "cell_type": "markdown",
   "metadata": {},
   "source": [
    "## 8. Visualization of Episode Statistics"
   ]
  },
  {
   "cell_type": "code",
   "execution_count": 15,
   "metadata": {},
   "outputs": [
    {
     "data": {
      "image/png": "[encoded data removed]",
      "text/plain": [
       "<Figure size 1200x1000 with 4 Axes>"
      ]
     },
     "metadata": {},
     "output_type": "display_data"
    }
   ],
   "source": [
    "# Plot episode statistics\n",
    "fig, axes = plt.subplots(2, 2, figsize=(12, 10))\n",
    "fig.suptitle('DEM Environment Episode Statistics', fontsize=16)\n",
    "\n",
    "# Cumulative reward\n",
    "cumulative_reward = np.cumsum(episode_data['rewards'])\n",
    "axes[0, 0].plot(episode_data['steps'], cumulative_reward)\n",
    "axes[0, 0].set_title('Cumulative Reward')\n",
    "axes[0, 0].set_xlabel('Step')\n",
    "axes[0, 0].set_ylabel('Cumulative Reward')\n",
    "axes[0, 0].grid(True)\n",
    "\n",
    "# VIP HP over time\n",
    "axes[0, 1].plot(episode_data['steps'], episode_data['vip_hp'])\n",
    "axes[0, 1].set_title('VIP HP Over Time')\n",
    "axes[0, 1].set_xlabel('Step')\n",
    "axes[0, 1].set_ylabel('VIP HP')\n",
    "axes[0, 1].grid(True)\n",
    "\n",
    "# Threats killed\n",
    "axes[1, 0].plot(episode_data['steps'], episode_data['threats_killed'])\n",
    "axes[1, 0].set_title('Threats Killed Over Time')\n",
    "axes[1, 0].set_xlabel('Step')\n",
    "axes[1, 0].set_ylabel('Threats Killed')\n",
    "axes[1, 0].grid(True)\n",
    "\n",
    "# Agents adjacent to VIP\n",
    "axes[1, 1].plot(episode_data['steps'], episode_data['agents_adjacent_to_vip'])\n",
    "axes[1, 1].set_title('Agents Adjacent to VIP')\n",
    "axes[1, 1].set_xlabel('Step')\n",
    "axes[1, 1].set_ylabel('Number of Agents')\n",
    "axes[1, 1].grid(True)\n",
    "\n",
    "plt.tight_layout()\n",
    "plt.show()"
   ]
  },
  {
   "cell_type": "markdown",
   "metadata": {},
   "source": [
    "## 9. Difficulty Levels Comparison"
   ]
  },
  {
   "cell_type": "code",
   "execution_count": 16,
   "metadata": {},
   "outputs": [
    {
     "name": "stdout",
     "output_type": "stream",
     "text": [
      "🎮 Comparing Difficulty Levels...\n",
      "\n",
      "🔍 Testing easy difficulty:\n",
      "  Grid size: 10x10\n",
      "  VIP HP: 80\n",
      "  Max steps: 100\n",
      "  Threat spawn interval: 12\n",
      "  Max threats: 3\n",
      "\n",
      "🔍 Testing normal difficulty:\n",
      "  Grid size: 12x12\n",
      "  VIP HP: 60\n",
      "  Max steps: 100\n",
      "  Threat spawn interval: 8\n",
      "  Max threats: 5\n",
      "\n",
      "🔍 Testing hard difficulty:\n",
      "  Grid size: 12x12\n",
      "  VIP HP: 40\n",
      "  Max steps: 150\n",
      "  Threat spawn interval: 6\n",
      "  Max threats: 8\n",
      "\n",
      "📊 Difficulty Comparison:\n",
      "Difficulty Grid     VIP HP   Steps    Threat Interval Max Threats \n",
      "----------------------------------------------------------------------\n",
      "easy       10x10  80       100      12              3           \n",
      "normal     12x12  60       100      8               5           \n",
      "hard       12x12  40       150      6               8           \n"
     ]
    }
   ],
   "source": [
    "# Compare different difficulty levels\n",
    "print(\"🎮 Comparing Difficulty Levels...\")\n",
    "\n",
    "difficulties = [\"easy\", \"normal\", \"hard\"]\n",
    "difficulty_results = {}\n",
    "\n",
    "for difficulty in difficulties:\n",
    "    print(f\"\\n🔍 Testing {difficulty} difficulty:\")\n",
    "    \n",
    "    env = create_dem_ctde_env(difficulty=difficulty, max_steps=100)\n",
    "    obs = env.reset()\n",
    "    env_info = env.get_env_info()\n",
    "    global_info = env.get_global_info()\n",
    "    \n",
    "    difficulty_results[difficulty] = {\n",
    "        'grid_size': env.config.grid_size,\n",
    "        'max_steps': env.config.max_steps,\n",
    "        'vip_hp': global_info['vip']['hp'],\n",
    "        'num_agents': env_info['n_agents'],\n",
    "        'threat_spawn_interval': env.config.threat_spawn_base_interval,\n",
    "        'max_threats': env.config.max_threats\n",
    "    }\n",
    "    \n",
    "    print(f\"  Grid size: {difficulty_results[difficulty]['grid_size']}x{difficulty_results[difficulty]['grid_size']}\")\n",
    "    print(f\"  VIP HP: {difficulty_results[difficulty]['vip_hp']}\")\n",
    "    print(f\"  Max steps: {difficulty_results[difficulty]['max_steps']}\")\n",
    "    print(f\"  Threat spawn interval: {difficulty_results[difficulty]['threat_spawn_interval']}\")\n",
    "    print(f\"  Max threats: {difficulty_results[difficulty]['max_threats']}\")\n",
    "    \n",
    "    env.close()\n",
    "\n",
    "# Display comparison table\n",
    "print(f\"\\n📊 Difficulty Comparison:\")\n",
    "print(f\"{'Difficulty':<10} {'Grid':<8} {'VIP HP':<8} {'Steps':<8} {'Threat Interval':<15} {'Max Threats':<12}\")\n",
    "print(\"-\" * 70)\n",
    "for difficulty in difficulties:\n",
    "    result = difficulty_results[difficulty]\n",
    "    print(f\"{difficulty:<10} {result['grid_size']}x{result['grid_size']:<3} {result['vip_hp']:<8} {result['max_steps']:<8} {result['threat_spawn_interval']:<15} {result['max_threats']:<12}\")"
   ]
  },
  {
   "cell_type": "markdown",
   "metadata": {},
   "source": [
    "## 10. Role Emergence Analysis"
   ]
  },
  {
   "cell_type": "code",
   "execution_count": 17,
   "metadata": {},
   "outputs": [
    {
     "name": "stdout",
     "output_type": "stream",
     "text": [
      "🎭 Analyzing Role Emergence...\n",
      "  Agent agent_0 finished episode\n",
      "\n",
      "🎭 Role Emergence Analysis:\n",
      "  Guard events (agents adjacent to VIP): 0\n",
      "  Vanguard events (agents ahead of VIP): 0\n",
      "  Body blocks: 0\n",
      "  Long range kills: 0\n",
      "  Communication events: 0\n",
      "  Average agent spread: 5.72\n"
     ]
    }
   ],
   "source": [
    "\n",
    "# Analyze role emergence in a longer episode\n",
    "print(\"🎭 Analyzing Role Emergence...\")\n",
    "\n",
    "ctde_env = create_dem_ctde_env(difficulty=\"normal\", max_steps=300, render_mode=\"human\")\n",
    "obs = ctde_env.reset()\n",
    "\n",
    "role_stats = {\n",
    "    'guard_events': 0,\n",
    "    'vanguard_events': 0,\n",
    "    'body_blocks': 0,\n",
    "    'long_range_kills': 0,\n",
    "    'communication_events': 0\n",
    "}\n",
    "\n",
    "agent_positions_history = {agent_id: [] for agent_id in obs.keys()}\n",
    "\n",
    "for step in range(200):\n",
    "    # More sophisticated policy to encourage role emergence\n",
    "    actions = {}\n",
    "    for i, agent_id in enumerate(obs.keys()):\n",
    "        # Different agents adopt different strategies\n",
    "        if i == 0:\n",
    "            # Agent 0: Guard strategy\n",
    "            actions[agent_id] = 6  # Guard VIP\n",
    "        elif i == 1:\n",
    "            # Agent 1: Vanguard strategy\n",
    "            actions[agent_id] = 0  # Move ahead\n",
    "        else:\n",
    "            # Agent 2: Mixed strategy\n",
    "            if step % 10 < 5:\n",
    "                actions[agent_id] = 4  # Attack\n",
    "            else:\n",
    "                actions[agent_id] = 6  # Guard VIP\n",
    "    \n",
    "    next_obs, rewards, done, info = ctde_env.step(actions)\n",
    "    \n",
    "    # Track role-specific events\n",
    "    stats = ctde_env.get_stats()\n",
    "    role_stats['guard_events'] += stats['agents_adjacent_to_vip']\n",
    "    role_stats['vanguard_events'] += stats['agents_ahead_of_vip']\n",
    "    role_stats['body_blocks'] += stats['body_blocks']\n",
    "    role_stats['long_range_kills'] += stats['long_range_kills']\n",
    "    role_stats['communication_events'] += stats['messages_sent']\n",
    "    \n",
    "    # Track agent positions\n",
    "    positions = ctde_env.get_agent_positions()\n",
    "    for agent_id, pos in positions.items():\n",
    "        agent_positions_history[agent_id].append(pos)\n",
    "    \n",
    "    for agent_id, done_ in done.items():\n",
    "        if done_:\n",
    "            print(f\"  Agent {agent_id} finished episode\")\n",
    "            break\n",
    "    if done_:\n",
    "        break\n",
    "    \n",
    "    obs = next_obs\n",
    "    time.sleep(0.1)  # Slow down for visualization\n",
    "\n",
    "print(f\"\\n🎭 Role Emergence Analysis:\")\n",
    "print(f\"  Guard events (agents adjacent to VIP): {role_stats['guard_events']}\")\n",
    "print(f\"  Vanguard events (agents ahead of VIP): {role_stats['vanguard_events']}\")\n",
    "print(f\"  Body blocks: {role_stats['body_blocks']}\")\n",
    "print(f\"  Long range kills: {role_stats['long_range_kills']}\")\n",
    "print(f\"  Communication events: {role_stats['communication_events']}\")\n",
    "\n",
    "# Calculate average distance between agents (spread)\n",
    "if len(agent_positions_history[list(agent_positions_history.keys())[0]]) > 0:\n",
    "    spreads = []\n",
    "    for t in range(len(agent_positions_history[list(agent_positions_history.keys())[0]])):\n",
    "        positions_at_t = [agent_positions_history[agent_id][t] for agent_id in agent_positions_history.keys() if len(agent_positions_history[agent_id]) > t]\n",
    "        if len(positions_at_t) > 1:\n",
    "            distances = []\n",
    "            for i in range(len(positions_at_t)):\n",
    "                for j in range(i+1, len(positions_at_t)):\n",
    "                    dist = np.sqrt((positions_at_t[i][0] - positions_at_t[j][0])**2 + \n",
    "                                 (positions_at_t[i][1] - positions_at_t[j][1])**2)\n",
    "                    distances.append(dist)\n",
    "            if distances:\n",
    "                spreads.append(np.mean(distances))\n",
    "    \n",
    "    if spreads:\n",
    "        print(f\"  Average agent spread: {np.mean(spreads):.2f}\")\n",
    "\n",
    "ctde_env.close()"
   ]
  },
  {
   "cell_type": "markdown",
   "metadata": {},
   "source": [
    "## 11. Integration with RL Algorithms"
   ]
  },
  {
   "cell_type": "code",
   "execution_count": 13,
   "metadata": {},
   "outputs": [
    {
     "name": "stdout",
     "output_type": "stream",
     "text": [
      "🤖 RL Integration Example...\n",
      "\n",
      "📊 Environment Info for RL:\n",
      "  Number of agents: 3\n",
      "  Observation shape: (59,)\n",
      "  Global state shape: (41,)\n",
      "  Action space: 10 discrete actions per agent\n",
      "\n",
      "📝 Data Format Example:\n",
      "  Observation format: <class 'dict'> with 3 agents\n",
      "  Action format: List of 3 integers\n",
      "  Reward format: List of 3 floats\n",
      "  Global state format: <class 'numpy.ndarray'> with shape (41,)\n",
      "\n",
      "✅ DEM environment is ready for MARL algorithm integration!\n"
     ]
    }
   ],
   "source": [
    "# Demonstrate how to use DEM environment with RL algorithms\n",
    "print(\"🤖 RL Integration Example...\")\n",
    "\n",
    "# Create environment suitable for QMIX/VDN/other MARL algorithms\n",
    "ctde_env = create_dem_ctde_env(\n",
    "    difficulty=\"normal\",\n",
    "    global_state_type=\"concat\",  # Most common choice for QMIX\n",
    "    max_steps=100\n",
    ")\n",
    "\n",
    "# Reset environment\n",
    "obs = ctde_env.reset()\n",
    "global_state = ctde_env.get_global_state()\n",
    "\n",
    "print(f\"\\n📊 Environment Info for RL:\")\n",
    "print(f\"  Number of agents: {len(obs)}\")\n",
    "print(f\"  Observation shape: {list(obs.values())[0].shape}\")\n",
    "print(f\"  Global state shape: {global_state.shape}\")\n",
    "print(f\"  Action space: 10 discrete actions per agent\")\n",
    "\n",
    "# Demonstrate data format expected by most MARL algorithms\n",
    "print(f\"\\n📝 Data Format Example:\")\n",
    "episode_data = {\n",
    "    'obs': [obs],  # List of observation dicts per timestep\n",
    "    'next_obs': [],\n",
    "    'actions': [0, 1, 2],  # Action indices per agent\n",
    "    'rewards': [0.1, -0.05, 0.2],  # Rewards per agent\n",
    "    'global_state': [global_state],  # List of global states\n",
    "    'next_global_state': [],\n",
    "    'done': [False],  # Done flag per timestep\n",
    "    'agent_ids': list(obs.keys())  # Agent identifiers\n",
    "}\n",
    "\n",
    "print(f\"  Observation format: {type(obs)} with {len(obs)} agents\")\n",
    "print(f\"  Action format: List of {len(episode_data['actions'])} integers\")\n",
    "print(f\"  Reward format: List of {len(episode_data['rewards'])} floats\")\n",
    "print(f\"  Global state format: {type(global_state)} with shape {global_state.shape}\")\n",
    "\n",
    "ctde_env.close()\n",
    "\n",
    "print(f\"\\n✅ DEM environment is ready for MARL algorithm integration!\")"
   ]
  },
  {
   "cell_type": "markdown",
   "metadata": {},
   "source": [
    "## 12. Performance Testing"
   ]
  },
  {
   "cell_type": "code",
   "execution_count": 20,
   "metadata": {},
   "outputs": [
    {
     "name": "stdout",
     "output_type": "stream",
     "text": [
      "⚡ Performance Testing...\n",
      "  Agent agent_0 finished the task.\n",
      "\n",
      "⚡ Performance Results:\n",
      "  Steps completed: 18\n",
      "  Total time: 0.00 seconds\n",
      "  Steps per second: 7904.7\n",
      "  Average step time: 0.13 ms\n",
      "  🚀 Excellent performance (>1000 steps/sec)\n"
     ]
    }
   ],
   "source": [
    "# Test environment performance\n",
    "import time\n",
    "\n",
    "\n",
    "print(\"⚡ Performance Testing...\")\n",
    "\n",
    "ctde_env = create_dem_ctde_env(difficulty=\"normal\", max_steps=1000, render_mode=\"\")\n",
    "obs = ctde_env.reset()\n",
    "\n",
    "# Measure step time\n",
    "start_time = time.time()\n",
    "steps = 0\n",
    "\n",
    "for _ in range(500):  # Run 500 steps\n",
    "    actions = {agent_id: np.random.randint(0, 10) for agent_id in obs.keys()}\n",
    "    obs, rewards, done, info = ctde_env.step(actions)\n",
    "    steps += 1\n",
    "    \n",
    "    for agent_id, done_flag in done.items():\n",
    "        if done_flag:\n",
    "            print(f\"  Agent {agent_id} finished the task.\")\n",
    "            break\n",
    "    \n",
    "    if done_flag:\n",
    "        break\n",
    "\n",
    "end_time = time.time()\n",
    "total_time = end_time - start_time\n",
    "steps_per_second = steps / total_time\n",
    "\n",
    "print(f\"\\n⚡ Performance Results:\")\n",
    "print(f\"  Steps completed: {steps}\")\n",
    "print(f\"  Total time: {total_time:.2f} seconds\")\n",
    "print(f\"  Steps per second: {steps_per_second:.1f}\")\n",
    "print(f\"  Average step time: {(total_time/steps)*1000:.2f} ms\")\n",
    "\n",
    "if steps_per_second > 1000:\n",
    "    print(f\"  🚀 Excellent performance (>1000 steps/sec)\")\n",
    "elif steps_per_second > 500:\n",
    "    print(f\"  ✅ Good performance (>500 steps/sec)\")\n",
    "elif steps_per_second > 100:\n",
    "    print(f\"  ⚠️ Acceptable performance (>100 steps/sec)\")\n",
    "else:\n",
    "    print(f\"  ❌ Poor performance (<100 steps/sec)\")\n",
    "\n",
    "ctde_env.close()"
   ]
  },
  {
   "cell_type": "markdown",
   "metadata": {},
   "source": [
    "## 13. Summary and Best Practices"
   ]
  },
  {
   "cell_type": "markdown",
   "metadata": {},
   "source": [
    "### Key Features of DEM Environment:\n",
    "\n",
    "1. **Multi-Agent Cooperation**: Agents must work together to protect VIP\n",
    "2. **Role Emergence**: Natural development of different agent strategies\n",
    "3. **Dynamic Threats**: Adaptive enemy spawning based on VIP status\n",
    "4. **Terrain Effects**: Rivers and forests affect movement and combat\n",
    "5. **Communication**: Agents can share information within range\n",
    "\n",
    "### Best Practices:\n",
    "\n",
    "1. **Environment Creation**:\n",
    "   - Use `create_dem_ctde_env()` for MARL algorithms\n",
    "   - Choose appropriate global state type for your algorithm\n",
    "   - Adjust difficulty based on agent performance\n",
    "\n",
    "2. **Training Tips**:\n",
    "   - Start with \"easy\" difficulty for initial training\n",
    "   - Use curriculum learning by gradually increasing difficulty\n",
    "   - Monitor role emergence statistics for behavior analysis\n",
    "\n",
    "3. **Algorithm Integration**:\n",
    "   - The environment is compatible with QMIX, VDN, MADDPG, etc.\n",
    "   - Use centralized training with decentralized execution\n",
    "   - Consider communication features for advanced algorithms\n",
    "\n",
    "4. **Performance**:\n",
    "   - Environment supports >1000 steps/second for fast training\n",
    "   - Use appropriate max_steps for your training requirements\n",
    "\n",
    "### Next Steps:\n",
    "\n",
    "- Implement your own RL agents using the environment\n",
    "- Experiment with different reward shaping strategies\n",
    "- Develop specialized communication protocols\n",
    "- Create custom terrain configurations\n",
    "- Analyze emergent behaviors and role specialization"
   ]
  }
 ],
 "metadata": {
  "kernelspec": {
   "display_name": "pettingzoo",
   "language": "python",
   "name": "python3"
  },
  "language_info": {
   "codemirror_mode": {
    "name": "ipython",
    "version": 3
   },
   "file_extension": ".py",
   "mimetype": "text/x-python",
   "name": "python",
   "nbconvert_exporter": "python",
   "pygments_lexer": "ipython3",
   "version": "3.8.20"
  }
 },
 "nbformat": 4,
 "nbformat_minor": 4
}
