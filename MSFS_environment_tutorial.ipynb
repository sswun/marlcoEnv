{
 "cells": [
  {
   "cell_type": "markdown",
   "metadata": {},
   "source": [
    "# MSFS (Multi-agent Smart Factory Scheduling) Environment Tutorial\n",
    "\n",
    "This notebook provides a tutorial for the MSFS environment where agents manage jobs and machines in a smart factory scheduling scenario.\n",
    "\n",
    "## Overview\n",
    "\n",
    "The MSFS environment simulates a smart factory where:\n",
    "- **Jobs** arrive with specific processing requirements\n",
    "- **Machines** with different capabilities process jobs\n",
    "- **Agents** coordinate scheduling and resource allocation\n",
    "- **Optimization goals** include throughput, wait times, and resource utilization"
   ]
  },
  {
   "cell_type": "code",
   "execution_count": 1,
   "metadata": {},
   "outputs": [],
   "source": [
    "import sys\n",
    "import os\n",
    "sys.path.append(os.path.join('..'))\n",
    "\n",
    "import numpy as np\n",
    "from MSFS.env_msfs import create_msfs_env\n",
    "from MSFS.env_msfs_ctde import create_msfs_ctde_env"
   ]
  },
  {
   "cell_type": "markdown",
   "metadata": {},
   "source": [
    "## Environment Setup\n",
    "\n",
    "### Core Components:\n",
    "- **Jobs**: Tasks with processing requirements and deadlines\n",
    "- **Machines**: Production resources with different capabilities\n",
    "- **Agents**: Scheduling and coordination managers\n",
    "- **Production Lines**: Sequential processing workflows"
   ]
  },
  {
   "cell_type": "code",
   "execution_count": 4,
   "metadata": {},
   "outputs": [
    {
     "name": "stdout",
     "output_type": "stream",
     "text": [
      "MSFS Environment Info:\n",
      "  n_agents: 2\n",
      "  agent_ids: ['agent_0', 'agent_1']\n",
      "  action_space: Discrete(8)\n",
      "  observation_space: Box(-1.0, 1.0, (24,), float32)\n",
      "  global_state_dim: 42\n",
      "  max_steps: 50\n",
      "  episode_limit: 50\n",
      "  obs_shape: 24\n",
      "  n_actions: 8\n",
      "  state_shape: 42\n"
     ]
    }
   ],
   "source": [
    "# Create environment\n",
    "env = create_msfs_env(difficulty=\"normal\", render_mode=\"\")\n",
    "\n",
    "print(\"MSFS Environment Info:\")\n",
    "env_info = env.get_env_info()\n",
    "for key, value in env_info.items():\n",
    "    print(f\"  {key}: {value}\")\n"
   ]
  },
  {
   "cell_type": "markdown",
   "metadata": {},
   "source": [
    "## Action and Observation Spaces"
   ]
  },
  {
   "cell_type": "code",
   "execution_count": 5,
   "metadata": {},
   "outputs": [
    {
     "name": "stdout",
     "output_type": "stream",
     "text": [
      "Action Space:\n",
      "  Actions: Job assignment, machine scheduling, resource allocation\n",
      "  N actions per agent: 8\n",
      "\n",
      "Observation Space:\n",
      "  agent_0: shape=(24,), range=[-1.000, 1.000]\n",
      "    Contains: job_queue, machine_status, processing_times, etc.\n",
      "  agent_1: shape=(24,), range=[-1.000, 1.000]\n"
     ]
    }
   ],
   "source": [
    "# Reset and examine spaces\n",
    "obs = env.reset()\n",
    "\n",
    "print(\"Action Space:\")\n",
    "print(f\"  Actions: Job assignment, machine scheduling, resource allocation\")\n",
    "print(f\"  N actions per agent: {env_info['n_actions']}\")\n",
    "\n",
    "print(\"\\nObservation Space:\")\n",
    "for agent_id, observation in obs.items():\n",
    "    print(f\"  {agent_id}: shape={observation.shape}, range=[{observation.min():.3f}, {observation.max():.3f}]\")\n",
    "    \n",
    "    if agent_id == list(obs.keys())[0]:\n",
    "        print(f\"    Contains: job_queue, machine_status, processing_times, etc.\")"
   ]
  },
  {
   "cell_type": "markdown",
   "metadata": {},
   "source": [
    "## Reward System\n",
    "\n",
    "### Reward Components:\n",
    "- **Job completion**: Positive reward for processed jobs\n",
    "- **On-time delivery**: Bonus for meeting deadlines\n",
    "- **Resource utilization**: Rewards for efficient machine usage\n",
    "- **Wait time penalties**: Negative rewards for job delays\n",
    "- **Throughput rewards**: Higher rewards for higher production rates"
   ]
  },
  {
   "cell_type": "code",
   "execution_count": 6,
   "metadata": {},
   "outputs": [
    {
     "name": "stdout",
     "output_type": "stream",
     "text": [
      "Reward System:\n",
      "  Positive rewards:\n",
      "    - Job completion (+base reward)\n",
      "    - On-time delivery (+bonus)\n",
      "    - High throughput (+bonus)\n",
      "    - Resource utilization (+bonus)\n",
      "  Negative rewards:\n",
      "    - Job delays (-penalty)\n",
      "    - Machine idle time (-penalty)\n",
      "    - Missed deadlines (-large penalty)\n",
      "\n",
      "Configuration Examples:\n",
      "  Easy: Relaxed deadlines, high rewards\n",
      "  Normal: Balanced constraints\n",
      "  Hard: Tight deadlines, high penalties\n"
     ]
    }
   ],
   "source": [
    "print(\"Reward System:\")\n",
    "print(\"  Positive rewards:\")\n",
    "print(\"    - Job completion (+base reward)\")\n",
    "print(\"    - On-time delivery (+bonus)\")\n",
    "print(\"    - High throughput (+bonus)\")\n",
    "print(\"    - Resource utilization (+bonus)\")\n",
    "print(\"  Negative rewards:\")\n",
    "print(\"    - Job delays (-penalty)\")\n",
    "print(\"    - Machine idle time (-penalty)\")\n",
    "print(\"    - Missed deadlines (-large penalty)\")\n",
    "\n",
    "print(\"\\nConfiguration Examples:\")\n",
    "print(\"  Easy: Relaxed deadlines, high rewards\")\n",
    "print(\"  Normal: Balanced constraints\")\n",
    "print(\"  Hard: Tight deadlines, high penalties\")"
   ]
  },
  {
   "cell_type": "markdown",
   "metadata": {},
   "source": [
    "## CTDE Integration"
   ]
  },
  {
   "cell_type": "code",
   "execution_count": 13,
   "metadata": {},
   "outputs": [],
   "source": [
    "# Create CTDE environment\n",
    "ctde_env = create_msfs_ctde_env(difficulty=\"normal\", global_state_type=\"concat\")\n",
    "\n",
    "obs = ctde_env.reset()\n",
    "global_state = ctde_env.get_global_state()\n",
    "\n",
    "\n",
    "ctde_env.close()"
   ]
  },
  {
   "cell_type": "markdown",
   "metadata": {},
   "source": [
    "## Key Features\n",
    "\n",
    "### 1. Complex Scheduling Problem\n",
    "- Multiple job types with different requirements\n",
    "- Machine constraints and capabilities\n",
    "- Sequential and parallel processing workflows\n",
    "- Dynamic job arrival patterns\n",
    "\n",
    "### 2. Multi-objective Optimization\n",
    "- Maximize throughput\n",
    "- Minimize wait times\n",
    "- Optimize resource utilization\n",
    "- Meet deadlines and quality requirements\n",
    "\n",
    "### 3. Real-world Applications\n",
    "- Manufacturing scheduling\n",
    "- Supply chain optimization\n",
    "- Resource allocation planning\n",
    "- Production line management"
   ]
  },
  {
   "cell_type": "code",
   "execution_count": 14,
   "metadata": {},
   "outputs": [
    {
     "name": "stdout",
     "output_type": "stream",
     "text": [
      "\n",
      "MSFS Environment Tutorial completed!\n",
      "\n",
      "Key takeaways:\n",
      "  1. Complex multi-objective optimization problem\n",
      "  2. Real-world factory scheduling simulation\n",
      "  3. Coordination required for optimal performance\n",
      "  4. Rich reward system for multiple optimization goals\n"
     ]
    }
   ],
   "source": [
    "# Clean up\n",
    "env.close()\n",
    "print(\"\\nMSFS Environment Tutorial completed!\")\n",
    "print(\"\\nKey takeaways:\")\n",
    "print(\"  1. Complex multi-objective optimization problem\")\n",
    "print(\"  2. Real-world factory scheduling simulation\")\n",
    "print(\"  3. Coordination required for optimal performance\")\n",
    "print(\"  4. Rich reward system for multiple optimization goals\")"
   ]
  }
 ],
 "metadata": {
  "kernelspec": {
   "display_name": "pettingzoo",
   "language": "python",
   "name": "python3"
  },
  "language_info": {
   "codemirror_mode": {
    "name": "ipython",
    "version": 3
   },
   "file_extension": ".py",
   "mimetype": "text/x-python",
   "name": "python",
   "nbconvert_exporter": "python",
   "pygments_lexer": "ipython3",
   "version": "3.8.20"
  }
 },
 "nbformat": 4,
 "nbformat_minor": 4
}
